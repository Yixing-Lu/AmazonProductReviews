{
 "cells": [
  {
   "cell_type": "code",
   "execution_count": 24,
   "metadata": {},
   "outputs": [],
   "source": [
    "import json\n",
    "import ast\n",
    "import gzip\n",
    "import random\n",
    "from collections import defaultdict\n",
    "\n",
    "def readCSV(path):\n",
    "    f = gzip.open(path, 'rt', encoding=\"utf8\")\n",
    "    f.readline()\n",
    "    for l in f:\n",
    "        yield ast.literal_eval(l)"
   ]
  },
  {
   "cell_type": "code",
   "execution_count": 46,
   "metadata": {},
   "outputs": [],
   "source": [
    "# Build the whole data set"
   ]
  },
  {
   "cell_type": "code",
   "execution_count": 47,
   "metadata": {},
   "outputs": [],
   "source": [
    "path = '/Users/louis/Downloads/renttherunway_final_data.json.gz'\n",
    "dataset = []\n",
    "f = gzip.open(path, 'rt', encoding=\"utf8\")\n",
    "for i in range(10000):\n",
    "    l = f.readline()\n",
    "    d = ast.literal_eval(l)\n",
    "    dataset.append(d)"
   ]
  },
  {
   "cell_type": "code",
   "execution_count": 48,
   "metadata": {},
   "outputs": [],
   "source": [
    "# Take a look"
   ]
  },
  {
   "cell_type": "code",
   "execution_count": 49,
   "metadata": {},
   "outputs": [
    {
     "name": "stdout",
     "output_type": "stream",
     "text": [
      "dict_keys(['fit', 'user_id', 'bust size', 'item_id', 'weight', 'rating', 'rented for', 'review_text', 'body type', 'review_summary', 'category', 'height', 'size', 'age', 'review_date'])\n",
      "{'fit': 'fit', 'user_id': '420272', 'bust size': '34d', 'item_id': '2260466', 'weight': '137lbs', 'rating': '10', 'rented for': 'vacation', 'review_text': \"An adorable romper! Belt and zipper were a little hard to navigate in a full day of wear/bathroom use, but that's to be expected. Wish it had pockets, but other than that-- absolutely perfect! I got a million compliments.\", 'body type': 'hourglass', 'review_summary': 'So many compliments!', 'category': 'romper', 'height': '5\\' 8\"', 'size': 14, 'age': '28', 'review_date': 'April 20, 2016'}\n"
     ]
    }
   ],
   "source": [
    "d = dataset[0]\n",
    "print(d.keys())\n",
    "print(d)"
   ]
  },
  {
   "cell_type": "code",
   "execution_count": 50,
   "metadata": {},
   "outputs": [],
   "source": [
    "# Calculate the average of age and weight in case they don't exist in keys of data"
   ]
  },
  {
   "cell_type": "code",
   "execution_count": 51,
   "metadata": {},
   "outputs": [
    {
     "name": "stdout",
     "output_type": "stream",
     "text": [
      "137 33\n"
     ]
    }
   ],
   "source": [
    "sumWeight = 0\n",
    "sumAge = 0\n",
    "countWeight = 0\n",
    "countAge = 0\n",
    "for d in dataset:\n",
    "    if 'weight' in d.keys():\n",
    "        countWeight += 1\n",
    "        sumWeight += int(d['weight'][:-3])\n",
    "    if 'age' in d.keys():\n",
    "        countAge += 1\n",
    "        sumAge += int(d['age'])\n",
    "avgWeight = int(sumWeight / countWeight)\n",
    "avgAge = int(sumAge / countAge)\n",
    "print(avgWeight,avgAge)"
   ]
  },
  {
   "cell_type": "code",
   "execution_count": 52,
   "metadata": {},
   "outputs": [],
   "source": [
    "# Construct training data and validation data"
   ]
  },
  {
   "cell_type": "code",
   "execution_count": 53,
   "metadata": {},
   "outputs": [],
   "source": [
    "dataTrain = dataset[:8000]\n",
    "dataValid = dataset[8000:]"
   ]
  },
  {
   "cell_type": "code",
   "execution_count": 54,
   "metadata": {},
   "outputs": [],
   "source": [
    "# Generate feature"
   ]
  },
  {
   "cell_type": "code",
   "execution_count": 55,
   "metadata": {},
   "outputs": [],
   "source": [
    "def feature(d): \n",
    "    # print(d)\n",
    "    x = [1]\n",
    "    \n",
    "    size = int(d['size'])\n",
    "    x.append(size)\n",
    "    \n",
    "    year = int(d['review_date'].split(\" \")[-1])\n",
    "    x.append(year)\n",
    "    \n",
    "    rating = int(d['rating'])\n",
    "    x.append(rating)\n",
    "        \n",
    "    lengthOfReview = len(d['review_text'])\n",
    "    x.append(lengthOfReview)\n",
    "    \n",
    "    lengthOfReviewSummary = len(d['review_summary'])\n",
    "    x.append(lengthOfReviewSummary)\n",
    "    \n",
    "    if 'weight' in d.keys():\n",
    "        weight = int(d['weight'][:-3])\n",
    "        x.append(weight)\n",
    "    else:\n",
    "        x.append(avgWeight)\n",
    "    if 'age' in d.keys():\n",
    "        age = int(d['age'])\n",
    "        x.append(age)\n",
    "    else:\n",
    "        x.append(avgAge)\n",
    "    return x"
   ]
  },
  {
   "cell_type": "code",
   "execution_count": 56,
   "metadata": {},
   "outputs": [],
   "source": [
    "# Construct the features and label"
   ]
  },
  {
   "cell_type": "code",
   "execution_count": 57,
   "metadata": {},
   "outputs": [],
   "source": [
    "XTrain = []\n",
    "yTrain = []\n",
    "for d in dataTrain:\n",
    "    XTrain.append(feature(d))\n",
    "    yTrain.append(d['fit'] == 'fit')\n",
    "XValid = []\n",
    "yValid = []\n",
    "for d in dataValid:\n",
    "    XValid.append(feature(d))\n",
    "    yValid.append(d['fit'] == 'fit')"
   ]
  },
  {
   "cell_type": "code",
   "execution_count": 58,
   "metadata": {},
   "outputs": [],
   "source": [
    "# Take a look"
   ]
  },
  {
   "cell_type": "code",
   "execution_count": 59,
   "metadata": {},
   "outputs": [
    {
     "data": {
      "text/plain": [
       "[[1, 14, 2016, 10, 221, 20, 137, 28],\n",
       " [1, 12, 2013, 10, 221, 23, 132, 36],\n",
       " [1, 4, 2015, 10, 198, 88, 137, 116],\n",
       " [1, 8, 2014, 8, 465, 48, 135, 34],\n",
       " [1, 12, 2016, 10, 559, 31, 145, 27],\n",
       " [1, 8, 2016, 8, 195, 31, 138, 45],\n",
       " [1, 4, 2017, 10, 158, 31, 112, 27],\n",
       " [1, 8, 2013, 10, 52, 63, 118, 65],\n",
       " [1, 21, 2016, 10, 254, 26, 137, 27],\n",
       " [1, 1, 2016, 10, 708, 78, 114, 33]]"
      ]
     },
     "execution_count": 59,
     "metadata": {},
     "output_type": "execute_result"
    }
   ],
   "source": [
    "XTrain[:10]"
   ]
  },
  {
   "cell_type": "code",
   "execution_count": null,
   "metadata": {},
   "outputs": [],
   "source": [
    "# Fit the model"
   ]
  },
  {
   "cell_type": "code",
   "execution_count": 60,
   "metadata": {},
   "outputs": [
    {
     "name": "stderr",
     "output_type": "stream",
     "text": [
      "/Users/louis/anaconda3/lib/python3.6/site-packages/sklearn/linear_model/logistic.py:432: FutureWarning: Default solver will be changed to 'lbfgs' in 0.22. Specify a solver to silence this warning.\n",
      "  FutureWarning)\n"
     ]
    },
    {
     "data": {
      "text/plain": [
       "LogisticRegression(C=1, class_weight=None, dual=False, fit_intercept=True,\n",
       "                   intercept_scaling=1, l1_ratio=None, max_iter=100,\n",
       "                   multi_class='warn', n_jobs=None, penalty='l2',\n",
       "                   random_state=None, solver='warn', tol=0.0001, verbose=0,\n",
       "                   warm_start=False)"
      ]
     },
     "execution_count": 60,
     "metadata": {},
     "output_type": "execute_result"
    }
   ],
   "source": [
    "from sklearn import linear_model\n",
    "mod = linear_model.LogisticRegression(C = 1) # class_weight = 'balanced') \n",
    "mod.fit(XTrain, yTrain)"
   ]
  },
  {
   "cell_type": "code",
   "execution_count": 61,
   "metadata": {},
   "outputs": [],
   "source": [
    "# Calculate the accuracy"
   ]
  },
  {
   "cell_type": "code",
   "execution_count": 62,
   "metadata": {},
   "outputs": [
    {
     "name": "stdout",
     "output_type": "stream",
     "text": [
      "0.748375 0.76\n"
     ]
    }
   ],
   "source": [
    "train_predictions = mod.predict(XTrain)\n",
    "valid_predictions = mod.predict(XValid)\n",
    "\n",
    "accuracyOnTrain = sum(train_predictions == yTrain) / len(yTrain)\n",
    "accuracyOnValid = sum(valid_predictions == yValid) / len(yValid) \n",
    "\n",
    "print(accuracyOnTrain,accuracyOnValid)"
   ]
  },
  {
   "cell_type": "code",
   "execution_count": null,
   "metadata": {},
   "outputs": [],
   "source": []
  }
 ],
 "metadata": {
  "kernelspec": {
   "display_name": "Python 3",
   "language": "python",
   "name": "python3"
  },
  "language_info": {
   "codemirror_mode": {
    "name": "ipython",
    "version": 3
   },
   "file_extension": ".py",
   "mimetype": "text/x-python",
   "name": "python",
   "nbconvert_exporter": "python",
   "pygments_lexer": "ipython3",
   "version": "3.6.7"
  }
 },
 "nbformat": 4,
 "nbformat_minor": 2
}
